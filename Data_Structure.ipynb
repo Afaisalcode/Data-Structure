{
  "nbformat": 4,
  "nbformat_minor": 0,
  "metadata": {
    "colab": {
      "provenance": []
    },
    "kernelspec": {
      "name": "python3",
      "display_name": "Python 3"
    },
    "language_info": {
      "name": "python"
    }
  },
  "cells": [
    {
      "cell_type": "markdown",
      "source": [
        "#Data structure\n"
      ],
      "metadata": {
        "id": "kltGX7QeIB8m"
      }
    },
    {
      "cell_type": "markdown",
      "source": [
        "#1. What are data structures, and why are they important?\n",
        "\n",
        "  - Data structures are ways to organize and store data in a computer so it can\n",
        "   be used efficiently. They're important because they help in optimizing time and space for operations like searching, sorting, insertion, and deletion.\n",
        "\n",
        "     Common Types:\n",
        "        \n",
        "     List/Array: Ordered collection.\n",
        "\n",
        "     Stack: Last-In-First-Out (LIFO).\n",
        "\n",
        "     Queue: First-In-First-Out (FIFO).\n",
        "\n",
        "     Set: Unordered, unique elements.\n",
        "\n",
        "     Dictionary (Hash Map): Key-value pairs.\n",
        "\n",
        "     Tree/Graph: Hierarchical or networked data.\n",
        "\n",
        "   Example:\n",
        "   \n",
        "   grades = {'Arif': 90, 'Bob': 85}\n",
        "\n",
        "   grades['Charlie'] = 88\n",
        "\n",
        "   print(grades['Arif'])  # Output: 90\n",
        "\n",
        "#2.Explain the difference between mutable and immutable data types with examplesP\n",
        "\n",
        "  - Mutable data types can be changed after creation, while immutable ones cannot.   \n",
        "\n",
        "  (a).Mutable Example: list\n",
        "\n",
        "  my_list = [1, 2, 3]\n",
        "\n",
        "  my_list.append(4)\n",
        "\n",
        "  print(my_list)  # [1, 2, 3, 4]\n",
        "\n",
        "  (b)Immutable Example: tuple\n",
        "\n",
        "  my_tuple = (1, 2, 3)\n",
        "\n",
        "  print(my_tuple)  # (1, 2, 3)\n",
        "\n",
        "#3.What are the main differences between lists and tuples in Python?\n",
        "\n",
        "  - Lists are mutable and slower, while tuples are immutable and faster.\n",
        "  Example:\n",
        "\n",
        "   my_list = [1, 2, 3]\n",
        "\n",
        "   my_list.append(4)\n",
        "\n",
        "   my_tuple = (1, 2, 3)\n",
        "\n",
        "  #my_tuple.append(4) → Error: Tuples don’t support append\n",
        "\n",
        "#4.*P Describe how dictionaries store data.\n",
        "\n",
        "  - Dictionaries store data as key-value pairs using a hash table, which allows fast lookup by key.\n",
        "\n",
        "  Example:\n",
        "\n",
        "  person = {'name': 'Alice', 'age': 30}\n",
        "\n",
        "  print(person['name'])\n",
        "\n",
        "#5.(P Why might you use a set instead of a list in Python?\n",
        "\n",
        "  - Use a set instead of a list when you need unique elements and fast membership checks.\n",
        "\n",
        "  Example:\n",
        "   \n",
        "   nums = [1, 2, 2, 3]\n",
        "\n",
        "   unique_nums = set(nums)\n",
        "\n",
        "   print(unique_nums)  # {1, 2, 3}\n",
        "\n",
        "#6.What is a string in Python, and how is it different from a list?\n",
        "\n",
        "  - A string is an immutable sequence of characters.\n",
        "\n",
        "  - A list is a mutable sequence that can hold different data types.\n",
        "\n",
        "   Example:\n",
        "\n",
        "  s = \"hello\"\n",
        "\n",
        "  l = ['h', 'e', 'l', 'l', 'o']\n",
        "\n",
        "   l[0] = 'H'\n",
        "\n",
        "   print(l)\n",
        "\n",
        "#7.How do tuples ensure data integrity in Python?\n",
        "\n",
        "  - Tuples are immutable, so their contents can't be changed, making data safe from accidental modification.\n",
        "\n",
        "  example:\n",
        "\n",
        "  data = (101, \"Alice\", \"HR\")  # Cannot be altered\n",
        "\n",
        "#8. What is a hash table, and how does it relate to dictionaries in Python\n",
        "\n",
        "  - A hash table maps keys to values using a hash function. Python's dict uses this internally for fast key lookup.\n",
        "\n",
        "   example:\n",
        "\n",
        "   d = {'a': 1, 'b': 2}  # Keys are hashed for quick access\n",
        "\n",
        "#9. Can lists contain different data types in Python\n",
        "\n",
        "   - Yes, lists can hold mixed data types.\n",
        "\n",
        "   example:\n",
        "\n",
        "   mixed = [1, \"hello\", 3.14, True]\n",
        "\n",
        "#10. Explain why strings are immutable in Python\n",
        "\n",
        " - Strings are immutable for memory efficiency and safety in multi-threading.\n",
        "  \n",
        "   s = \"hello\"\n",
        "\n",
        "   # s[0] = 'H' → Error\n",
        "\n",
        "#11. What advantages do dictionaries offer over lists for certain tasks\n",
        "\n",
        "  - Dictionaries offer faster lookups by key, not position.\n",
        "\n",
        "  example:\n",
        "\n",
        "  info = {'id': 123, 'name': 'John'}  #Easier than indexing\n",
        "\n",
        "#12.Describe a scenario where using a tuple would be preferable over a list.\n",
        "\n",
        "  - Use a tuple when storing constant data, like coordinates.\n",
        "\n",
        "  example:\n",
        "\n",
        "  location = (35.6895, 139.6917)\n",
        "\n",
        "#13.How do sets handle duplicate values in Python?\n",
        "\n",
        "  - Sets automatically remove duplicates.\n",
        "\n",
        "   example:\n",
        "\n",
        "   s = set([1, 2, 2, 3])\n",
        "\n",
        "    print(s)  #{1, 2, 3}\n",
        "\n",
        "#14.How does the “in” keyword work differently for lists and dictionaries?\n",
        "\n",
        "   - In a list, it checks values; in a dict, it checks keys.\n",
        "\n",
        "  example:\n",
        "\n",
        "  'key' in {'key': 1}     #True\n",
        "\n",
        "  'val' in [1, 2, 3]      #False\n",
        "\n",
        "#15.Can you modify the elements of a tuple? Explain why or why not.\n",
        "\n",
        " - No, because tuples are immutable.\n",
        "\n",
        "  example:\n",
        "\n",
        "  t = (1, 2, 3)\n",
        "\n",
        "  #t[0] = 9 → Error\n",
        "\n",
        "\n",
        "#16.What is a nested dictionary, and give an example of its use case?\n",
        "\n",
        " - A dictionary inside another. Useful for structured data.\n",
        "\n",
        "   example:\n",
        "\n",
        "   student = {'name': 'Ana', 'marks': {'math': 90, 'sci': 85}}\n",
        "\n",
        "\n",
        "#17.Describe the time complexity of accessing elements in a dictionary.\n",
        "\n",
        "  - Access is on average O(1) due to hash table use.\n",
        "\n",
        "   example:\n",
        "\n",
        "   d = {'a': 10}\n",
        "\n",
        "   print(d['a'])  # Constant time\n",
        "\n",
        "\n",
        "#18.In what situations are lists preferred over dictionaries?\n",
        "\n",
        "  - When order and position-based access matter.\n",
        "  \n",
        "  example:\n",
        "\n",
        "  colors = ['red', 'green', 'blue']\n",
        "\n",
        "  print(colors[1])  # 'green'\n",
        "\n",
        "#19.Why are dictionaries considered unordered, and how does that affect data retrieval?\n",
        "\n",
        "  - Before Python 3.7, dictionaries didn’t keep insertion order. Retrieval is by key, not position.\n",
        "\n",
        "  example:\n",
        "\n",
        "  d = {'b': 2, 'a': 1}\n",
        "\n",
        "  print(d['a'])  # Always by key\n",
        "\n",
        "#20.Explain the difference between a list and a dictionary in terms of data retrieval.\n",
        "\n",
        " - List uses index, dictionary uses key.\n",
        "\n",
        "  example:\n",
        "\n",
        "  l = [10, 20]\n",
        "\n",
        "   d = {'x': 10, 'y': 20}\n",
        "\n",
        "   print(l[0])     #10\n",
        "\n",
        "   print(d['x'])   #10\n",
        "\n",
        "\n",
        "\n",
        "\n",
        "\n",
        "\n",
        "\n",
        "\n",
        "\n",
        "\n",
        "\n",
        "\n",
        "\n",
        "\n",
        "\n",
        "\n",
        "\n",
        "\n",
        "\n"
      ],
      "metadata": {
        "id": "sTsmF0hNdnu0"
      }
    },
    {
      "cell_type": "markdown",
      "source": [
        "#Practical Question\n"
      ],
      "metadata": {
        "id": "Js88ajX7IYcT"
      }
    },
    {
      "cell_type": "code",
      "source": [
        "#1.Write a code to create a string with your name and print itP\n",
        "\n",
        "\n",
        "'''\n",
        "name = \"Arif faisal\"\n",
        "print(name)\n",
        "\n",
        "'''\n"
      ],
      "metadata": {
        "id": "5SgRhL2zIdTX"
      },
      "execution_count": null,
      "outputs": []
    },
    {
      "cell_type": "code",
      "source": [
        "#2.Write a code to find the length of the string \"Hello World\".\n",
        "\n",
        "'''\n",
        "s = \"Hello World\"\n",
        "print(len(s))  #11\n",
        "\n",
        "'''"
      ],
      "metadata": {
        "id": "FfaEtQFuJOlb"
      },
      "execution_count": null,
      "outputs": []
    },
    {
      "cell_type": "code",
      "source": [
        "#3.Write a code to slice the first 3 characters from the string \"Python Programming\".\n",
        "\n",
        "'''\n",
        "text = \"Python Programming\"\n",
        "print(text[:3])  #Pyt\n",
        "\n",
        "'''"
      ],
      "metadata": {
        "id": "e0GWqAWoJpwy"
      },
      "execution_count": null,
      "outputs": []
    },
    {
      "cell_type": "code",
      "source": [
        "#4.Write a code to convert the string \"hello\" to uppercase.\n",
        "\n",
        "'''\n",
        "print(\"hello\".upper())  #HELLO\n",
        "\n",
        "'''\n"
      ],
      "metadata": {
        "id": "7nwNuHwJJz3q"
      },
      "execution_count": null,
      "outputs": []
    },
    {
      "cell_type": "code",
      "source": [
        "#5.Write a code to replace the word \"apple\" with \"orange\" in the string \"I like apple\".\n",
        "\n",
        "'''\n",
        "s = \"I like apple\"\n",
        "print(s.replace(\"apple\", \"orange\"))\n",
        "\n",
        "'''"
      ],
      "metadata": {
        "id": "vj7HdUNAKN89"
      },
      "execution_count": null,
      "outputs": []
    },
    {
      "cell_type": "code",
      "source": [
        "#6.Write a code to create a list with numbers 1 to 5 and print it.\n",
        "\n",
        "'''\n",
        "nums = [1, 2, 3, 4, 5]\n",
        "print(nums)\n",
        "\n",
        "'''"
      ],
      "metadata": {
        "id": "702MQWPpKkTF"
      },
      "execution_count": null,
      "outputs": []
    },
    {
      "cell_type": "code",
      "source": [
        "#7.Write a code to append the number 10 to the list [1, 2, 3, 4]\n",
        "\n",
        "'''\n",
        "lst = [1, 2, 3, 4]\n",
        "lst.append(10)\n",
        "print(lst)\n",
        "'''\n"
      ],
      "metadata": {
        "id": "4HSiLs_PKvq0"
      },
      "execution_count": null,
      "outputs": []
    },
    {
      "cell_type": "code",
      "source": [
        "#8.Write a code to remove the number 3 from the list [1, 2, 3, 4, 5]\n",
        "\n",
        "'''\n",
        "lst = [1, 2, 3, 4, 5]\n",
        "lst.remove(3)\n",
        "print(lst)\n",
        "\n",
        "'''"
      ],
      "metadata": {
        "id": "OkJ-j_FnK-AC"
      },
      "execution_count": null,
      "outputs": []
    },
    {
      "cell_type": "code",
      "source": [
        "#9. Write a code to access the second element in the list ['a', 'b', 'c', 'd']\n",
        "\n",
        "'''\n",
        "letters = ['a', 'b', 'c', 'd']\n",
        "print(letters[1])  # b\n",
        "'''\n"
      ],
      "metadata": {
        "id": "X9cg5IlALHaj"
      },
      "execution_count": null,
      "outputs": []
    },
    {
      "cell_type": "code",
      "source": [
        "#10.Write a code to reverse the list [10, 20, 30, 40, 50].\n",
        "\n",
        "'''\n",
        "lst = [10, 20, 30, 40, 50]\n",
        "lst.reverse()\n",
        "print(lst)\n",
        "'''"
      ],
      "metadata": {
        "id": "kHNUOWuzLWNc"
      },
      "execution_count": null,
      "outputs": []
    },
    {
      "cell_type": "code",
      "source": [
        "#11.Write a code to create a tuple with the elements 100, 200, 300 and print it.\n",
        "\n",
        "'''\n",
        "t = (100, 200, 300)\n",
        "print(t)\n",
        "'''"
      ],
      "metadata": {
        "id": "PG3AUvAkLgPb"
      },
      "execution_count": null,
      "outputs": []
    },
    {
      "cell_type": "code",
      "source": [
        "#12.Write a code to access the second-to-last element of the tuple ('red', 'green', 'blue', 'yellow').\n",
        "\n",
        "'''\n",
        "colors = ('red', 'green', 'blue', 'yellow')\n",
        "print(colors[-2])  # blue\n",
        "'''"
      ],
      "metadata": {
        "id": "y-tKB-PfLsPH"
      },
      "execution_count": null,
      "outputs": []
    },
    {
      "cell_type": "code",
      "source": [
        "#!3.Write a code to find the minimum number in the tuple (10, 20, 5, 15).\n",
        "\n",
        "'''\n",
        "t = (10, 20, 5, 15)\n",
        "print(min(t))  # 5\n",
        "'''"
      ],
      "metadata": {
        "id": "OiLDFDqKLuSz"
      },
      "execution_count": null,
      "outputs": []
    },
    {
      "cell_type": "code",
      "source": [
        "#14.Write a code to find the index of the element \"cat\" in the tuple ('dog', 'cat', 'rabbit').\n",
        "\n",
        "'''\n",
        "animals = ('dog', 'cat', 'rabbit')\n",
        "print(animals.index('cat'))  # 1\n",
        "'''"
      ],
      "metadata": {
        "id": "MJVZnJvbMKpZ"
      },
      "execution_count": null,
      "outputs": []
    },
    {
      "cell_type": "code",
      "source": [
        "#15.Write a code to create a tuple containing three different fruits and check if \"kiwi\" is in it.\n",
        "'''\n",
        "fruits = ('apple', 'banana', 'mango')\n",
        "print('kiwi' in fruits)  # False\n",
        "'''\n"
      ],
      "metadata": {
        "id": "hBHD5vV9Mch0"
      },
      "execution_count": null,
      "outputs": []
    },
    {
      "cell_type": "code",
      "source": [
        "#16.Write a code to create a set with the elements 'a', 'b', 'c' and print it.\n",
        "'''\n",
        "my_set = {'a', 'b', 'c'}\n",
        "\n",
        "print(my_set)\n",
        "'''"
      ],
      "metadata": {
        "id": "61c1LCNVMkop"
      },
      "execution_count": null,
      "outputs": []
    },
    {
      "cell_type": "code",
      "source": [
        "#17.Write a code to clear all elements from the set {1, 2, 3, 4, 5}\n",
        "'''\n",
        "s = {1, 2, 3, 4, 5}\n",
        "s.clear()\n",
        "print(s)  # set()\n",
        "'''"
      ],
      "metadata": {
        "id": "jKQgkrOTNt03"
      },
      "execution_count": null,
      "outputs": []
    },
    {
      "cell_type": "code",
      "source": [
        "#18.Write a code to remove the element 4 from the set {1, 2, 3, 4}.\n",
        "'''\n",
        "my_set = {1, 2, 3, 4}\n",
        "my_set.remove(4)\n",
        "print(my_set)\n",
        "'''\n",
        "\n"
      ],
      "metadata": {
        "id": "3G-UgQelN_2V"
      },
      "execution_count": null,
      "outputs": []
    },
    {
      "cell_type": "code",
      "source": [
        "#19.Write a code to find the union of two sets {1, 2, 3} and {3, 4, 5}.\n",
        "'''\n",
        "set1 = {1, 2, 3}\n",
        "set2 = {3, 4, 5}\n",
        "\n",
        "union_set = set1.union(set2)\n",
        "\n",
        "print(union_set)\n",
        "\n",
        "union_set_operator = set1 | set2\n",
        "print(union_set_operator\n",
        "'''"
      ],
      "metadata": {
        "id": "yUqvt-bNOlYO"
      },
      "execution_count": null,
      "outputs": []
    },
    {
      "cell_type": "code",
      "source": [
        "#20.Write a code to find the intersection of two sets {1, 2, 3} and {2, 3, 4}.\n",
        "'''\n",
        "a = {1, 2, 3}\n",
        "b = {2, 3, 4}\n",
        "print(a.intersection(b))  # {2, 3}\n",
        "'''"
      ],
      "metadata": {
        "id": "FJt0UnW2PNva"
      },
      "execution_count": null,
      "outputs": []
    },
    {
      "cell_type": "code",
      "source": [
        "#21.Write a code to create a dictionary with the keys \"name\", \"age\", and \"city\", and print it.\n",
        "'''\n",
        "person = {'name': 'John', 'age': 25, 'city': 'New York'}\n",
        "print(person)\n",
        "'''"
      ],
      "metadata": {
        "id": "1k0cFNwKPfwl"
      },
      "execution_count": null,
      "outputs": []
    },
    {
      "cell_type": "code",
      "source": [
        "#22.Write a code to add a new key-value pair \"country\": \"USA\" to the dictionary {'name': 'John', 'age': 25}.\n",
        "'''\n",
        "my_dict = {'name': 'John', 'age': 25}\n",
        "my_dict['country'] = 'USA'\n",
        "print(my_dict)\n",
        "'''"
      ],
      "metadata": {
        "id": "w2RcemT0Ps-V"
      },
      "execution_count": null,
      "outputs": []
    },
    {
      "cell_type": "code",
      "source": [
        "#23.Write a code to access the value associated with the key \"name\" in the dictionary {'name': 'Alice', 'age': 30}.\n",
        "'''\n",
        "my_dict = {'name': 'Alice', 'age': 30}\n",
        "name_value = my_dict['name']\n",
        "print(name_value)\n",
        "'''"
      ],
      "metadata": {
        "id": "E_vI7dfFP-zM"
      },
      "execution_count": null,
      "outputs": []
    },
    {
      "cell_type": "code",
      "source": [
        "#24.Write a code to remove the key \"age\" from the dictionary {'name': 'Bob', 'age': 22, 'city': 'New York'}\n",
        "'''\n",
        "my_dict = {'name': 'Bob', 'age': 22, 'city': 'New York'}\n",
        "del my_dict['age']\n",
        "print(my_dict)\n",
        "'''"
      ],
      "metadata": {
        "id": "NnNIRDTyQMrA"
      },
      "execution_count": null,
      "outputs": []
    },
    {
      "cell_type": "code",
      "source": [
        "#25.Write a code to check if the key \"city\" exists in the dictionary {'name': 'Alice', 'city': 'Paris'}\n",
        "'''\n",
        "my_dict = {'name': 'Alice', 'city': 'Paris'}\n",
        "if 'city' in my_dict:\n",
        "    print(\"The key 'city' exists in the dictionary.\")\n",
        "else:\n",
        "\n",
        "  print(\"The key 'city' does not exist in the dictionary.\")\n",
        "\n",
        "'''"
      ],
      "metadata": {
        "id": "wPZ3pgQVQY9j"
      },
      "execution_count": null,
      "outputs": []
    },
    {
      "cell_type": "code",
      "source": [
        "#26.Write a code to create a list, a tuple, and a dictionary, and print them all.\n",
        "'''\n",
        "my_list = [1, 2, 'apple', True]\n",
        "print(\"List:\", my_list)\n",
        "\n",
        "my_tuple = (10, 'banana', False)\n",
        "print(\"Tuple:\", my_tuple)\n",
        "\n",
        "my_dict = {'name': 'Charlie', 'age': 35, 'city': 'London'}\n",
        "print(\"Dictionary:\", my_dict)\n",
        "'''"
      ],
      "metadata": {
        "id": "-KdTkO-xQoF0"
      },
      "execution_count": null,
      "outputs": []
    },
    {
      "cell_type": "code",
      "source": [
        "#27.Write a code to create a list of 5 random numbers between 1 and 100, sort it in ascending order, and print the\n",
        "result.(replaced)\n",
        "\n",
        "'''\n",
        "import random\n",
        "\n",
        "# Create a list of 5 random numbers between 1 and 100\n",
        "random_numbers = [random.randint(1, 100) for _ in range(5)]\n",
        "\n",
        "# Sort the list in ascending order\n",
        "random_numbers.sort()\n",
        "\n",
        "# Print the sorted list\n",
        "print(\"Sorted list of random numbers:\", random_numbers)\n",
        "'''"
      ],
      "metadata": {
        "id": "5IGyK1UiQ5BY"
      },
      "execution_count": null,
      "outputs": []
    },
    {
      "cell_type": "code",
      "source": [
        "#28.Write a code to create a list with strings and print the element at the third index.\n",
        "'''\n",
        "my_list = [\"apple\", \"banana\", \"cherry\", \"date\", \"elderberry\"]\n",
        "print(my_list[2])\n",
        "'''"
      ],
      "metadata": {
        "id": "THe7lC_4RN7Q"
      },
      "execution_count": null,
      "outputs": []
    },
    {
      "cell_type": "code",
      "source": [
        "#29.Write a code to combine two dictionaries into one and print the result.\n",
        "'''\n",
        "dict1 = {'a': 1, 'b': 2}\n",
        "dict2 = {'c': 3, 'd': 4}\n",
        "merged_dict = {**dict1, **dict2}\n",
        "print(merged_dict)\n",
        "'''"
      ],
      "metadata": {
        "id": "2TFAAWKuReTl"
      },
      "execution_count": null,
      "outputs": []
    },
    {
      "cell_type": "code",
      "source": [
        "#30.Write a code to convert a list of strings into a set.\n",
        "'''\n",
        "my_list = [\"apple\", \"banana\", \"cherry\", \"apple\", \"date\"]\n",
        "my_set = set(my_list)\n",
        "print(my_set)\n",
        "'''"
      ],
      "metadata": {
        "id": "qZ9eSEN7Rr7V"
      },
      "execution_count": null,
      "outputs": []
    }
  ]
}